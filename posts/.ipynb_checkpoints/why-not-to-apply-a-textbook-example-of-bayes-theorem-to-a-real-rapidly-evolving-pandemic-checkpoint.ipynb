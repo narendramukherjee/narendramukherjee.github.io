{
 "cells": [
  {
   "cell_type": "markdown",
   "metadata": {},
   "source": [
    "**Disclaimer:** This post is only intended to illustrate what is wrong with a misguided application of a textbook example involving Bayes' theorem to a real world pandemic about which we are only starting to learn. There are lots of simplifying assumptions in the analysis that follows that neglect the complexities of the spread of a highly infectious virus. This only goes to show that data scientists should not attempt to make policy prescriptions if they aren't experts in epidemiology/economics/biology/infectious diseases, and should instead listen to expert recommendations."
   ]
  },
  {
   "cell_type": "markdown",
   "metadata": {},
   "source": [
    "# Background"
   ]
  },
  {
   "cell_type": "markdown",
   "metadata": {},
   "source": [
    "I came across a long series of posts on [Twitter](https://twitter.com/karthiks/status/1250362089585033216?s=09&fbclid=IwAR1OOfduLF8yn37oIqzuz8ikoQVSEXaBnBB9pTW5-5hXTMgwR-zC2mfwuXQ) that tries to make a policy prescription against increased (to whatever extent possible) randomized testing for Covid-19. I will refrain from commenting on the policy prescription, but just want to illustrate what's missing in that line of logic from a statistical perspective.\n",
    "\n",
    "To explain the problem scenario, we are trying to evaluate the *conditional probability of a patient who has tested positive for a disease actually having the disease*. Let us denote the disease by the binary random variable $D$ where $D=1$ means the patient has the disease and $D=0$ means thay they do not. Similarly, let us denote the test result for the disease by the binary random variable $T$; $T=0$ means a negative test while $T=1$ means a positive test. So, what we really are after is, once again, the *conditional probability of a patient who has tested positive for a disease actually having the disease*, which would be $P(D=1|T=1)$.\n",
    "\n",
    "Now, $P(D=1|T=1)$ turns out to be an elusive number: for each patient, we only know if $T=0$ or $T=1$. From that test result, there is no direct way of getting to $P(D=1|T=1)$. What we need to do instead is to tally the situations which can give rise to $T=1$: a positive test result is obtained in 2 different ways:\n",
    "1. The patient has the disease ($D=1$) and the test caught it with $T=1$ (the number that matters for this is the **true positive rate (TP$_{rate}$)**)\n",
    "2. The patient does not have the disease ($D=0$) and the test still came up positive with $T=1$ (the number that matters for this is the **false positive rate (FP$_{rate}$)**)\n",
    "\n",
    "Now, if we assume that the disease incidence in the population is 50:50 random chance, like an unbiased coin flip, we can get to $P(D=1|T=1)$ by getting the fraction of true positives amongst all the positives that the test pulls out. In the machine learning literature, this is also known as **precision**, and is defined as:\n",
    "\n",
    "$$\\text{Precision} = \\frac{\\text{TP}_{rate}}{\\text{TP}_{rate} + \\text{FP}_{rate}}$$\n",
    "\n",
    "However, diagnostic tests for diseases are dealing with a somewhat different beast than machine learning algorithms: diagnostic tests are usually used for diseases that are relatively \"rare\" in the population, i.e, disease incidence in the population is not at 50:50 random chance. For most diseases (say breast cancer, HIV, etc) we are talking about very low disease incidence rates in the population: let's say 1%. Think of this as a biased coin, which comes up heads with a 1:100 random chance.\n",
    "\n",
    "If the disease is relatively rare in the population, we need to scale TP$_{rate}$ and FP$_{rate}$ by the right factors while calculating $P(D=1|T=1)$ aka the test's precision. We know that true positives are going to be rare, because people with $D=1$ are rare in the population to begin with. So we get to a modified formula for precision as follows:\n",
    "\n",
    "$$\\text{Precision}_{\\text{modified}} = \\frac{\\text{TP}_{rate} \\times P(D=1)}{\\text{TP}_{rate} \\times P(D=1) + \\text{FP}_{rate} \\times P(D=0)}$$\n",
    "\n",
    "Putting some numbers into this equation gets us to the situation pointed out in the Twitter posts - let's say, as I started above, that the disease incidence rate in the population is 1%. So, $P(D=1) = 0.01$ and by extension, $P(D=0) = 0.99$. Let's always assume a relatively good diagnostic test with $\\text{TP}_{rate}=0.99$ and $\\text{FP}_{rate}=0.01$ - so the test will give a positive result for a patient with the disease 99% of the times, and will give positive result for someone without the disease 1% of the times. Using the formula above, we get:\n",
    "\n",
    "$$\\text{Precision}_{\\text{modified}} = P(D=1|T=1) = \\frac{0.99 \\times 0.01}{0.99 \\times 0.01 + 0.01 \\times 0.99} = \\frac{1}{2}$$\n",
    "\n",
    "What this tells us that even with a good diagnostic test with high true positive rate and low false positive rate, if a patient gets a positive test, *there's only a 50% chance that they actually have the disease*, as long as the disease's incidence in the population is pretty low! In the Twitter posts, this has been used to justify the futility of testing randomly (because our confidence in a positive result is going to be low, even with a very precise test, because of the low disease incidence), so what use is it going to be to be wasting scarce testing resource by testing randomly? "
   ]
  },
  {
   "cell_type": "markdown",
   "metadata": {},
   "source": [
    "# The problem with the above line of reasoning"
   ]
  },
  {
   "cell_type": "markdown",
   "metadata": {},
   "source": [
    "There are several issues with the logic of the argument outlined above, not least because it neglects all the complexity involved in the current Covid-19 pandemic, including (and most importantly) the fact that we do not really know the baseline prevalance of the disease $P(D)$ in the population in the first place. In addition, the Twitter posts seem to claim this as an example of Bayesian reasoning and inference when it just is an application of the rules of conditional probability and is not Bayesian in any way (more on that below). That is why I chose to deliberately avoid referring to Bayes' theorem in the description above - to show that the calculation above is just obtained by counting the ways in which $T=1$ could occur.\n",
    "\n",
    "# So, then, what would a Bayesian do differently in the situation above?\n",
    "\n",
    "The fundamental tenet of Bayesian statistics/inference (and fundamental difference from the frequentist view of statistics) is the *focus on probability distributions of the parameters that matter* in the analysis. So, to start off, a Bayesian would not refer to the prevalence of the disease in the population $P(D)$ as a single number - I assumed it to be 1% (or 0.01) in the calculation above. From the Bayesian perspective, you would want to quantify your \"prior\" information on the disease incidence in the population through a probability distribution - with something like $P(P(D))$.\n",
    "\n",
    "Now that's a mouthful - a probability distribution of a probability, P(D), itself? How does that even work? Turns out that there's a probability distribution designed specifically for that purpose: it is called the [**Beta distribution**](https://en.wikipedia.org/wiki/Beta_distribution) and it can be used to model the probability distribution of a random variable that is bound to the interval [0, 1].\n",
    "\n",
    "So, how does the Beta distribution work? It has two parameters, $\\alpha$ and $\\beta$, which crystallize our knowledge about the probability of disease incidence, P(D). $\\alpha$ and $\\beta$ kind of act like the heads and tails you get by tossing a coin - $\\alpha = \\beta = 10$ implies that the distribution of P(D) is peaked at 0.5 (which is what you would believe the probability of heads to be if you tossed a coin 20 times and saw 10 heads and 10 tails). So how does that look?"
   ]
  },
  {
   "cell_type": "code",
   "execution_count": 1,
   "metadata": {},
   "outputs": [],
   "source": [
    "%matplotlib inline"
   ]
  },
  {
   "cell_type": "code",
   "execution_count": 2,
   "metadata": {},
   "outputs": [],
   "source": [
    "import numpy as np\n",
    "import pylab as plt"
   ]
  },
  {
   "cell_type": "code",
   "execution_count": 10,
   "metadata": {},
   "outputs": [
    {
     "data": {
      "text/plain": [
       "(0, 1)"
      ]
     },
     "execution_count": 10,
     "metadata": {},
     "output_type": "execute_result"
    },
    {
     "data": {
      "image/png": "[encoded data removed]",
      "text/plain": [
       "<Figure size 432x288 with 1 Axes>"
      ]
     },
     "metadata": {
      "needs_background": "light"
     },
     "output_type": "display_data"
    }
   ],
   "source": [
    "# 20,000 samples from a beta distribution with alpha=beta=10\n",
    "beta_samples_1 = np.random.beta(a=10, b=10, size=20000)\n",
    "plt.hist(beta_samples_1)\n",
    "plt.xlabel(r\"$P(D)$\")\n",
    "plt.xlim([0, 1])"
   ]
  },
  {
   "cell_type": "markdown",
   "metadata": {},
   "source": [
    "As we guessed above, the peak of the distribution is at 0.5. However, (and that is what is different in Bayesian analyses), there is a spread in the possible values of $P(D)$. So, with $\\alpha=\\beta=10$ we say that we are most confident that $P(D)=0.5$, but $P(D)$ can be much lower (say 0.2) or much higher (say 0.8), just with much lower probability. \n",
    "\n",
    "But, say, now, we have stronger evidence that $P(D)$ is 0.5 - like, in our running coin tossing example, we toss the coin 1000 times and get 500 heads. Of course, we intuitively know that we are way more confident in the probability of heads being 0.5 if we get 500/1000 heads than if we get 10/20 heads. Does the Beta distribution capture that? You bet! "
   ]
  },
  {
   "cell_type": "code",
   "execution_count": 11,
   "metadata": {},
   "outputs": [
    {
     "data": {
      "text/plain": [
       "(0, 1)"
      ]
     },
     "execution_count": 11,
     "metadata": {},
     "output_type": "execute_result"
    },
    {
     "data": {
      "image/png": "[encoded data removed]",
      "text/plain": [
       "<Figure size 432x288 with 1 Axes>"
      ]
     },
     "metadata": {
      "needs_background": "light"
     },
     "output_type": "display_data"
    }
   ],
   "source": [
    "# 20,000 samples from a beta distribution with alpha=beta=500\n",
    "beta_samples_2 = np.random.beta(a=500, b=500, size=20000)\n",
    "plt.hist(beta_samples_2)\n",
    "plt.xlabel(r\"$P(D)$\")\n",
    "plt.xlim([0, 1])"
   ]
  },
  {
   "cell_type": "markdown",
   "metadata": {},
   "source": [
    "Its obvious that this new Beta distribution is still peaked at $P(D)=0.5$, but its spread is way, way smaller. **We are much more confident in $P(D)=0.5$!**\n",
    "\n",
    "Another way to quantify this difference (which we will use in the analysis that follows) is to calculate the interval that accounts for 95% of the probability in these two distributions. That, in Bayesian language, is called a **95% credible interval** and is actually a different beast from the more common **confidence interval** - but, it turns out that most people actually interpret confidence intervals like credible intervals (different story!), so we can think of them to be kinda same. We will use the [PyMC3](https://docs.pymc.io/notebooks/getting_started.html) probabilistic programming/Bayesian inference package to calculate 95% credible intervals"
   ]
  },
  {
   "cell_type": "code",
   "execution_count": 12,
   "metadata": {},
   "outputs": [],
   "source": [
    "import pymc3 as pm"
   ]
  },
  {
   "cell_type": "code",
   "execution_count": 16,
   "metadata": {},
   "outputs": [
    {
     "name": "stdout",
     "output_type": "stream",
     "text": [
      "95% credible interval of Beta(10, 10) is: [0.28880648 0.71211405]\n",
      "95% credible interval of Beta(500, 500) is: [0.4683776  0.53084922]\n"
     ]
    }
   ],
   "source": [
    "print(\"95% credible interval of Beta(10, 10) is:\", pm.hpd(beta_samples_1, credible_interval=0.95))\n",
    "print(\"95% credible interval of Beta(500, 500) is:\", pm.hpd(beta_samples_2, credible_interval=0.95))"
   ]
  },
  {
   "cell_type": "markdown",
   "metadata": {},
   "source": [
    "So, obviously, the credible interval of $P(D)$ is much larger (we are less \"confident\" in our knowledge of $P(D)$) in the first case than the second.\n",
    "\n",
    "With our knowledge of the Beta distribution, we can jump to the most important question:\n",
    "\n",
    "# Why are we conducting tests for a rapidly spreading pandemic?\n",
    "\n",
    "One reason for testing for a disease, as the background of this story explained, is to identify if a particular patient has the disease. But, as we saw in the beginning of this post, that probability depends critically on the baseline incidence rate of the disease in the population. But, and here comes the catch, we do not know that baseline incidence rate in the first place for a pandemic that is only a couple of months old - *and that rate rapidly changes as we test and find people who have the disease*. So its kinda circular - $P(D)$ is essential in the calculation of $P(D|T)$, but our knowledge of $P(D)$ can only be obtained through testing!\n",
    "\n",
    "As we test, and find positive patients, our knowledge of $P(D)$ actively changes, which the Bayesian way of analysis naturally captures (but the calculation based on conditional probabilities and a fixed value of $P(D)$ utterly ignores). If we don't test enough, we are not confident of the spread of the disease in the population, and by extension our calculation of $P(D|T)$ is also messed up!\n",
    "\n",
    "To make this clearer, for a moment, let's assume the diagnostic test to be perfect, with $\\text{TP}_{rate}=1$ and $\\text{FP}_{rate}=0$. So, if $T=1$, it means that the patient has the disease, and $P(D|T)=1$.\n",
    "\n",
    "With that assumption, let's think about our prior belief in the values of $P(D)$ in the absence of any tests. Say, that we think that the incidence rate is very small (0.1%) - but we cannot be very confident about that in the absence of any tests. So let's say we parametrize $P(D)$ with $\\text{Beta}(\\alpha=1, \\beta=1000)$"
   ]
  },
  {
   "cell_type": "code",
   "execution_count": 18,
   "metadata": {},
   "outputs": [
    {
     "data": {
      "text/plain": [
       "Text(0.5, 0, '$P(D)$')"
      ]
     },
     "execution_count": 18,
     "metadata": {},
     "output_type": "execute_result"
    },
    {
     "data": {
      "image/png": "[encoded data removed]",
      "text/plain": [
       "<Figure size 432x288 with 1 Axes>"
      ]
     },
     "metadata": {
      "needs_background": "light"
     },
     "output_type": "display_data"
    }
   ],
   "source": [
    "# 20,000 samples from a beta distribution with alpha=1, beta=1000\n",
    "beta_samples = np.random.beta(a=1, b=1000, size=20000)\n",
    "plt.hist(beta_samples)\n",
    "plt.xlabel(r\"$P(D)$\")"
   ]
  },
  {
   "cell_type": "code",
   "execution_count": 19,
   "metadata": {},
   "outputs": [
    {
     "data": {
      "text/plain": [
       "array([2.98768428e-08, 2.78104325e-03])"
      ]
     },
     "execution_count": 19,
     "metadata": {},
     "output_type": "execute_result"
    }
   ],
   "source": [
    "pm.hpd(beta_samples)"
   ]
  },
  {
   "cell_type": "markdown",
   "metadata": {},
   "source": [
    "The 95% credible interval of P(D), based on our prior belief, in the absence of any tests, is therefore between (essentially) 0 and 0.28%. Pretty low to begin with.\n",
    "\n",
    "**But what happens when we start testing and detecting positive cases**? Let's say we conduct 10,000 tests and find that 1% (100) are positive. What have we learnt about $P(D)$ from this round of testing?\n",
    "\n",
    "This is where we use the tools of Bayesian inference in full glory - based on our observations (100 positive tests out of 10,000) and our prior knowledge of $P(D)$, we can get the *posterior probability of disease incidence given the testing results*, $P(D|\\text{Test results})$ by using Bayes' theorem as follows:\n",
    "\n",
    "$$P(D|\\text{Test results}) = \\frac{P(\\text{Test results}|D) \\times P(D)}{\\int_D P(\\text{Test results}|D)}$$\n",
    "\n",
    "That formula looks complicated, especially the integral in the denominator, but it turns out that under the assumption of the perfect test we made above ($\\text{TP}_{rate}=1$ and $\\text{FP}_{rate}=0$), the Beta prior on $P(D)$ interacts with the Binomial distribution of positive test results to give a posterior distribution $P(D|\\text{Test results})$ that is also Beta distributed. To get that posterior, we just add the number of positive and negative tests obtained to the $\\alpha$ and $\\beta$ parameters of the Beta prior. So that means that the posterior in this case is **Beta($\\alpha=101, \\beta=11000$)**: "
   ]
  },
  {
   "cell_type": "code",
   "execution_count": 20,
   "metadata": {},
   "outputs": [
    {
     "data": {
      "text/plain": [
       "Text(0.5, 0, '$P(D)$')"
      ]
     },
     "execution_count": 20,
     "metadata": {},
     "output_type": "execute_result"
    },
    {
     "data": {
      "image/png": "[encoded data removed]",
      "text/plain": [
       "<Figure size 432x288 with 1 Axes>"
      ]
     },
     "metadata": {
      "needs_background": "light"
     },
     "output_type": "display_data"
    }
   ],
   "source": [
    "# 20,000 samples from a beta distribution with alpha=101, beta=11000\n",
    "beta_samples = np.random.beta(a=101, b=11000, size=20000)\n",
    "plt.hist(beta_samples)\n",
    "plt.xlabel(r\"$P(D)$\")"
   ]
  },
  {
   "cell_type": "markdown",
   "metadata": {},
   "source": [
    "# So, then, why is the \"rare disease\" example used to illustrate Bayesian inference in statistics textbooks?"
   ]
  },
  {
   "cell_type": "code",
   "execution_count": 7,
   "metadata": {},
   "outputs": [],
   "source": [
    "# Not a Bayesian vs Frequentist comparison"
   ]
  },
  {
   "cell_type": "code",
   "execution_count": 8,
   "metadata": {},
   "outputs": [],
   "source": [
    "# References for Beta and PyMC3"
   ]
  },
  {
   "cell_type": "code",
   "execution_count": null,
   "metadata": {},
   "outputs": [],
   "source": []
  }
 ],
 "metadata": {
  "kernelspec": {
   "display_name": "Python 3",
   "language": "python",
   "name": "python3"
  },
  "language_info": {
   "codemirror_mode": {
    "name": "ipython",
    "version": 3
   },
   "file_extension": ".py",
   "mimetype": "text/x-python",
   "name": "python",
   "nbconvert_exporter": "python",
   "pygments_lexer": "ipython3",
   "version": "3.7.4"
  },
  "nikola": {
   "category": "",
   "date": "2020-04-18 17:16:24 UTC-04:00",
   "description": "",
   "link": "",
   "slug": "why-not-to-apply-a-textbook-example-of-bayes-theorem-to-a-real-rapidly-evolving-pandemic",
   "tags": "",
   "title": "Why not to apply a textbook example of Bayes' theorem to a real, \"rapidly evolving\" pandemic",
   "type": "text"
  }
 },
 "nbformat": 4,
 "nbformat_minor": 4
}
